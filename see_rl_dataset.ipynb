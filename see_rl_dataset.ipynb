{
 "cells": [
  {
   "cell_type": "code",
   "execution_count": null,
   "metadata": {},
   "outputs": [],
   "source": [
    "from datasets import load_dataset"
   ]
  },
  {
   "cell_type": "code",
   "execution_count": null,
   "metadata": {},
   "outputs": [],
   "source": []
  },
  {
   "cell_type": "code",
   "execution_count": null,
   "metadata": {},
   "outputs": [],
   "source": [
    "ds = load_dataset('Anthropic/hh-rlhf')"
   ]
  },
  {
   "cell_type": "code",
   "execution_count": null,
   "metadata": {},
   "outputs": [],
   "source": [
    "len(ds['test'])"
   ]
  },
  {
   "cell_type": "code",
   "execution_count": null,
   "metadata": {},
   "outputs": [],
   "source": [
    "\n",
    "def convert_format(sent):\n",
    "    sents = sent.split('\\n\\n')\n",
    "    humans = []\n",
    "    assistants = []\n",
    "    for i, s in enumerate(sents):\n",
    "        if s.startswith('Human: '):\n",
    "            humans.append(i)\n",
    "        elif s.startswith('Assistant: '):\n",
    "            assistants.append(i)\n",
    "    if len(humans)!=len(assistants):\n",
    "        # print(f'ERROR: {ds_index}')\n",
    "        # print(item)\n",
    "        return\n",
    "    dialogue = []\n",
    "    for i in range(len(humans)):\n",
    "        human_sent = '\\n'.join(sents[humans[i]:assistants[i]])\n",
    "        if i+1<len(humans):\n",
    "            assistant_sent = '\\n'.join(sents[assistants[i]:humans[i+1]])\n",
    "        else:\n",
    "            assistant_sent = '\\n'.join(sents[assistants[i]:])\n",
    "        human_sent = human_sent[7:]\n",
    "        assistant_sent = assistant_sent[11:]\n",
    "        dialogue.append({'Human: ':human_sent,'Assistant: ':assistant_sent})\n",
    "    return dialogue\n",
    "def get_ds(ds):\n",
    "    dialogues = []\n",
    "    for ds_index,item in enumerate(ds):\n",
    "        # sent = item['chosen']\n",
    "        # print(sent)\n",
    "        converted_chosen = convert_format(item['chosen'])\n",
    "        converted_rejected = convert_format(item['rejected'])\n",
    "        if converted_chosen is None or converted_rejected is None:\n",
    "            continue\n",
    "        dialogues.append({\n",
    "            'chosen':converted_chosen,\n",
    "            'rejected':converted_rejected,\n",
    "        })\n",
    "    return dialogues\n",
    "def get_single_turn(ds):\n",
    "    return [dialogue for dialogue in ds if len(dialogue['chosen'])==1 and len(dialogue['rejected'])==1]\n",
    "def map_fn(sample):\n",
    "    return {\n",
    "        'prompt':sample['chosen'][0]['Human: '],\n",
    "        'chosen':sample['chosen'][0]['Assistant: '],\n",
    "        'rejected':sample['rejected'][0]['Assistant: '],\n",
    "    }\n",
    "new_ds = {\n",
    "    'train':list(map(map_fn, get_single_turn(get_ds(ds['train'])))),\n",
    "    'test':list(map(map_fn, get_single_turn(get_ds(ds['test'])))),\n",
    "}\n",
    "\n",
    "# dialogues"
   ]
  },
  {
   "cell_type": "code",
   "execution_count": null,
   "metadata": {},
   "outputs": [],
   "source": [
    "new_ds"
   ]
  },
  {
   "cell_type": "code",
   "execution_count": null,
   "metadata": {},
   "outputs": [],
   "source": [
    "import json\n",
    "with open('/nfs2/wzt/deep-speed-chat/datasets/single_turn_rlhf/train.json','w') as f:\n",
    "    json.dump(new_ds['train'],f)\n",
    "with open('/nfs2/wzt/deep-speed-chat/datasets/single_turn_rlhf/test.json','w') as f:\n",
    "    json.dump(new_ds['test'],f)"
   ]
  },
  {
   "cell_type": "code",
   "execution_count": null,
   "metadata": {},
   "outputs": [],
   "source": [
    "my_ds = load_dataset(\"json\",data_files={'train':'/nfs2/wzt/deep-speed-chat/datasets/single_turn_rlhf/train.json','test':'/nfs2/wzt/deep-speed-chat/datasets/single_turn_rlhf/test.json'})\n",
    "my_ds"
   ]
  },
  {
   "cell_type": "code",
   "execution_count": null,
   "metadata": {},
   "outputs": [],
   "source": [
    "my_ds['train'][0]\n",
    "\n",
    "tmp = my_ds['train']\n",
    "tmp"
   ]
  },
  {
   "cell_type": "code",
   "execution_count": null,
   "metadata": {},
   "outputs": [],
   "source": [
    "tmp = [map_fn(item) for item in tmp]\n",
    "tmp"
   ]
  }
 ],
 "metadata": {
  "kernelspec": {
   "display_name": "snapshot",
   "language": "python",
   "name": "python3"
  },
  "language_info": {
   "codemirror_mode": {
    "name": "ipython",
    "version": 3
   },
   "file_extension": ".py",
   "mimetype": "text/x-python",
   "name": "python",
   "nbconvert_exporter": "python",
   "pygments_lexer": "ipython3",
   "version": "3.9.13"
  },
  "orig_nbformat": 4
 },
 "nbformat": 4,
 "nbformat_minor": 2
}
