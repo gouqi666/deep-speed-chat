{
 "cells": [
  {
   "cell_type": "code",
   "execution_count": null,
   "metadata": {},
   "outputs": [],
   "source": [
    "from datasets import load_dataset\n",
    "dataset = load_dataset(\"vincentmin/eli5_rlhf\")"
   ]
  },
  {
   "cell_type": "code",
   "execution_count": null,
   "metadata": {},
   "outputs": [],
   "source": [
    "dataset['train'][0]"
   ]
  },
  {
   "cell_type": "code",
   "execution_count": null,
   "metadata": {},
   "outputs": [],
   "source": [
    "new_ds = []\n",
    "from tqdm.notebook import tqdm\n",
    "for item in tqdm(dataset['train']):\n",
    "    # print(item)\n",
    "    title = item['title']\n",
    "    prompt = item['selftext']\n",
    "    chosen = item['response_j']\n",
    "    rejected = item['response_k']\n",
    "    new_ds.append(\n",
    "        {\n",
    "            'title': title,\n",
    "            'prompt': prompt,\n",
    "            'chosen': chosen,\n",
    "            'rejected': rejected\n",
    "        }\n",
    "    )\n",
    "new_ds"
   ]
  },
  {
   "cell_type": "code",
   "execution_count": 12,
   "metadata": {},
   "outputs": [],
   "source": [
    "with open('./eli5_rlhf/train.json','w',encoding='utf-8') as f:\n",
    "    import json\n",
    "    json.dump(new_ds,f,indent=4,ensure_ascii=False)"
   ]
  }
 ],
 "metadata": {
  "kernelspec": {
   "display_name": "snapshot",
   "language": "python",
   "name": "python3"
  },
  "language_info": {
   "codemirror_mode": {
    "name": "ipython",
    "version": 3
   },
   "file_extension": ".py",
   "mimetype": "text/x-python",
   "name": "python",
   "nbconvert_exporter": "python",
   "pygments_lexer": "ipython3",
   "version": "3.9.13"
  },
  "orig_nbformat": 4
 },
 "nbformat": 4,
 "nbformat_minor": 2
}
